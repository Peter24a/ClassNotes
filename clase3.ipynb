{
 "cells": [
  {
   "cell_type": "code",
   "execution_count": 2,
   "metadata": {},
   "outputs": [
    {
     "name": "stdout",
     "output_type": "stream",
     "text": [
      "1\n",
      "10\n"
     ]
    }
   ],
   "source": [
    "data_1=[1,2,3,4,5]\n",
    "print(data_1[0])\n",
    "data_1[0]=10\n",
    "print(data_1[0])\n"
   ]
  },
  {
   "cell_type": "code",
   "execution_count": 3,
   "metadata": {},
   "outputs": [
    {
     "data": {
      "text/plain": [
       "10"
      ]
     },
     "execution_count": 3,
     "metadata": {},
     "output_type": "execute_result"
    }
   ],
   "source": [
    "max(data_1)"
   ]
  },
  {
   "cell_type": "code",
   "execution_count": 4,
   "metadata": {},
   "outputs": [
    {
     "data": {
      "text/plain": [
       "2"
      ]
     },
     "execution_count": 4,
     "metadata": {},
     "output_type": "execute_result"
    }
   ],
   "source": [
    "min(data_1)"
   ]
  },
  {
   "cell_type": "code",
   "execution_count": 9,
   "metadata": {},
   "outputs": [
    {
     "name": "stdout",
     "output_type": "stream",
     "text": [
      "1\n",
      "2\n",
      "3\n",
      "4\n",
      "5\n",
      "1\n"
     ]
    }
   ],
   "source": [
    "#si quiero manejar un dato constante se usa una tupla ()\n",
    "#si quiero que sea mutable se usa una lista []\n",
    "\n",
    "data_2=(1,2,3,4,5)\n",
    "for i in data_2:\n",
    "    print(i)\n",
    "\n",
    "print(data_2[0])\n",
    "\n"
   ]
  },
  {
   "cell_type": "code",
   "execution_count": 11,
   "metadata": {},
   "outputs": [
    {
     "name": "stdout",
     "output_type": "stream",
     "text": [
      "9\n",
      "1\n",
      "20\n",
      "1.25\n",
      "13\n"
     ]
    }
   ],
   "source": [
    "def suma(a:int, b:int)->int:\n",
    "    return a+b\n",
    "def resta(a:int, b:int)->int:\n",
    "    return a-b\n",
    "def multiplicacion(a:int, b:int)->int:\n",
    "    return a*b\n",
    "def division(a:int, b:int)->int:\n",
    "    return a/b\n",
    "\n",
    "operaciones=[suma,resta,multiplicacion,division]\n",
    "for operacion in operaciones: \n",
    "    print(operacion(5,4))\n",
    "\n",
    "print(operaciones[0](6,7))"
   ]
  },
  {
   "cell_type": "code",
   "execution_count": 12,
   "metadata": {},
   "outputs": [
    {
     "name": "stdout",
     "output_type": "stream",
     "text": [
      "9\n",
      "1\n",
      "20\n",
      "1.25\n",
      "13\n"
     ]
    }
   ],
   "source": [
    "def suma(a:int, b:int)->int:\n",
    "    return a+b\n",
    "def resta(a:int, b:int)->int:\n",
    "    return a-b\n",
    "def multiplicacion(a:int, b:int)->int:\n",
    "    return a*b\n",
    "def division(a:int, b:int)->int:\n",
    "    return a/b\n",
    "\n",
    "operaciones=(suma,resta,multiplicacion,division)\n",
    "for operacion in operaciones: \n",
    "    print(operacion(5,4))\n",
    "\n",
    "print(operaciones[0](6,7))"
   ]
  },
  {
   "cell_type": "code",
   "execution_count": null,
   "metadata": {},
   "outputs": [],
   "source": []
  }
 ],
 "metadata": {
  "kernelspec": {
   "display_name": "Python 3",
   "language": "python",
   "name": "python3"
  },
  "language_info": {
   "codemirror_mode": {
    "name": "ipython",
    "version": 3
   },
   "file_extension": ".py",
   "mimetype": "text/x-python",
   "name": "python",
   "nbconvert_exporter": "python",
   "pygments_lexer": "ipython3",
   "version": "3.11.4"
  },
  "orig_nbformat": 4
 },
 "nbformat": 4,
 "nbformat_minor": 2
}
