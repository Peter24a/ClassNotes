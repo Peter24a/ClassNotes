{
 "cells": [
  {
   "cell_type": "code",
   "execution_count": 9,
   "metadata": {},
   "outputs": [
    {
     "name": "stdout",
     "output_type": "stream",
     "text": [
      "Es mayor de edad\n"
     ]
    }
   ],
   "source": [
    "edad=18\n",
    "\n",
    "if edad >= 18:\n",
    "    print(\"Es mayor de edad\")\n",
    "\n",
    "if edad < 18: \n",
    "    print(\"Es menor de edad\")\n",
    "\n",
    "\n",
    "\n"
   ]
  },
  {
   "cell_type": "code",
   "execution_count": 11,
   "metadata": {},
   "outputs": [
    {
     "name": "stdout",
     "output_type": "stream",
     "text": [
      "Es menor de edad\n"
     ]
    }
   ],
   "source": [
    "edad=17\n",
    "\n",
    "\n",
    "if edad >= 18:\n",
    "    print(\"Es mayor de edad\")\n",
    "else: \n",
    "   print(\"Es menor de edad\")\n"
   ]
  },
  {
   "cell_type": "code",
   "execution_count": 13,
   "metadata": {},
   "outputs": [
    {
     "name": "stdout",
     "output_type": "stream",
     "text": [
      "Eres menor de edad\n"
     ]
    }
   ],
   "source": [
    "edad=17\n",
    "\n",
    "if edad >18:\n",
    "    print(\"Es mayor de edad\")\n",
    "elif edad == 18:\n",
    "    print(\"Tienes 18 años, felicidades \")\n",
    "else:\n",
    "    print(\"Eres menor de edad\")\n"
   ]
  },
  {
   "cell_type": "code",
   "execution_count": 14,
   "metadata": {},
   "outputs": [
    {
     "name": "stdout",
     "output_type": "stream",
     "text": [
      "Escriba +-*/ para realizar la operación deseada\n",
      "El resultado es:  11\n"
     ]
    }
   ],
   "source": [
    "#Escriba una calculadora con las cuatro operaciones básicas usando if-elif-else\n",
    "print(\"Escriba +-*/ para realizar la operación deseada\")\n",
    "\n",
    "num1 = int(input(\"Ingrese el primer número: \"))\n",
    "num2 = int(input(\"Ingrese el segundo número: \"))\n",
    "operacion = input(\"Ingrese la operación a realizar: \")\n",
    "\n",
    "if operacion == \"+\":\n",
    "    print(\"El resultado es: \", num1 + num2)\n",
    "elif operacion == \"-\":\n",
    "    print(\"El resultado es: \", num1 - num2)\n",
    "elif operacion == \"*\":\n",
    "    print(\"El resultado es: \", num1 * num2)\n",
    "elif operacion == \"/\":\n",
    "    print(\"El resultado es: \", num1 / num2)\n",
    "else:\n",
    "    print(\"Operación no válida\")\n"
   ]
  },
  {
   "cell_type": "code",
   "execution_count": 15,
   "metadata": {},
   "outputs": [
    {
     "name": "stdout",
     "output_type": "stream",
     "text": [
      "1. suma\n",
      "2. resta\n",
      "3. multiplicación\n",
      "4. división\n",
      "\n",
      "División:0.5555555555555556\n"
     ]
    }
   ],
   "source": [
    "numero_1= int(input(\"Ingrese el primer número: \"))\n",
    "numero_2= int(input(\"Ingrese el segundo número: \"))\n",
    "menu= f\"1. suma\\n2. resta\\n3. multiplicación\\n4. división\\n\"\n",
    "print(menu)\n",
    "opcion= input(\"Que operacion desea realizar: \")\n",
    "if opcion == \"1\":\n",
    "    print(f\"Suma:{numero_1+numero_2}\")\n",
    "elif opcion == \"2\":\n",
    "    print(f\"Resta:{numero_1-numero_2}\")\n",
    "elif opcion == \"3\":\n",
    "    print(f\"Multiplicación:{numero_1*numero_2}\")\n",
    "elif opcion == \"4\":\n",
    "    print(f\"División:{numero_1/numero_2}\")\n",
    "else:\n",
    "    print(\"Operación no válida\")\n",
    "\n"
   ]
  },
  {
   "cell_type": "code",
   "execution_count": 16,
   "metadata": {},
   "outputs": [
    {
     "name": "stdout",
     "output_type": "stream",
     "text": [
      "1. suma\n",
      "2. resta\n",
      "3. multiplicación\n",
      "4. división\n",
      "\n",
      "Suma:100\n"
     ]
    }
   ],
   "source": [
    "numero_1= int(input(\"Ingrese el primer número: \"))\n",
    "numero_2= int(input(\"Ingrese el segundo número: \"))\n",
    "menu= f\"1. suma\\n2. resta\\n3. multiplicación\\n4. división\\n\"\n",
    "print(menu)\n",
    "opcion= input(\"Que operacion desea realizar: \")\n",
    "match opcion:\n",
    "    case \"1\":\n",
    "        print(f\"Suma:{numero_1+numero_2}\")\n",
    "    case \"2\":\n",
    "        print(f\"Resta:{numero_1-numero_2}\")\n",
    "    case '3':\n",
    "        print(f'Multiplicacion:{numero_1*numero_2}')\n",
    "    case '4':\n",
    "        print(f'Division:{numero_1/numero_2}')\n",
    "    case _:\n",
    "        print(\"Operación no válida\")"
   ]
  },
  {
   "cell_type": "code",
   "execution_count": 43,
   "metadata": {},
   "outputs": [
    {
     "name": "stdout",
     "output_type": "stream",
     "text": [
      "Eres menor de edad\n"
     ]
    }
   ],
   "source": [
    "edad=17\n",
    "match edad:\n",
    "    case edad if edad >18:\n",
    "        print(\"Eres mayor de edad\")\n",
    "    case edad if edad <18:\n",
    "        print(\"Eres menor de edad\")\n",
    "    case _:\n",
    "        print(\"Tienes 18 años, felicidades\")\n"
   ]
  },
  {
   "cell_type": "code",
   "execution_count": 54,
   "metadata": {},
   "outputs": [
    {
     "data": {
      "text/plain": [
       "[1, 2, 3, 4, 5, 6, 7, 8, 9, 10]"
      ]
     },
     "execution_count": 54,
     "metadata": {},
     "output_type": "execute_result"
    }
   ],
   "source": [
    "#Listas\n",
    "lista_1=[1,2,3,4,5,6,7,8,9,10]\n",
    "lista_1"
   ]
  },
  {
   "cell_type": "code",
   "execution_count": 55,
   "metadata": {},
   "outputs": [
    {
     "data": {
      "text/plain": [
       "[1, 2, 3, 4, 5, 6, 7, 8, 9, '10', [1, 2, 3]]"
      ]
     },
     "execution_count": 55,
     "metadata": {},
     "output_type": "execute_result"
    }
   ],
   "source": [
    "#Listas\n",
    "lista_1=[1,2,3,4,5,6,7,8,9,'10',[1,2,3]]\n",
    "\n",
    "lista_1\n"
   ]
  },
  {
   "cell_type": "code",
   "execution_count": 56,
   "metadata": {},
   "outputs": [
    {
     "data": {
      "text/plain": [
       "[1, 2, 3]"
      ]
     },
     "execution_count": 56,
     "metadata": {},
     "output_type": "execute_result"
    }
   ],
   "source": [
    "lista=lista_1[10]\n",
    "lista"
   ]
  },
  {
   "cell_type": "code",
   "execution_count": 59,
   "metadata": {},
   "outputs": [
    {
     "data": {
      "text/plain": [
       "[1, 2, 3, 4, 4]"
      ]
     },
     "execution_count": 59,
     "metadata": {},
     "output_type": "execute_result"
    }
   ],
   "source": [
    "#En python se pueden agregar listas dentro de listas\n",
    "#En python las listas son dinámicas pueden cambiar de tamaño\n",
    "lista.append(4)\n",
    "lista\n"
   ]
  },
  {
   "cell_type": "code",
   "execution_count": 1,
   "metadata": {},
   "outputs": [
    {
     "data": {
      "text/plain": [
       "{'llave': 'valor'}"
      ]
     },
     "execution_count": 1,
     "metadata": {},
     "output_type": "execute_result"
    }
   ],
   "source": [
    "#diccionarios\n",
    "diccionario={'llave':'valor'}\n",
    "diccionario\n"
   ]
  },
  {
   "cell_type": "code",
   "execution_count": 68,
   "metadata": {},
   "outputs": [
    {
     "data": {
      "text/plain": [
       "dict_keys(['llave'])"
      ]
     },
     "execution_count": 68,
     "metadata": {},
     "output_type": "execute_result"
    }
   ],
   "source": [
    "diccionario['llave']\n",
    "diccionario.values()\n",
    "diccionario.keys()"
   ]
  },
  {
   "cell_type": "code",
   "execution_count": 70,
   "metadata": {},
   "outputs": [
    {
     "data": {
      "text/plain": [
       "{1, 2, 3, 4, 5, 6, 7, 8, 9, 10}"
      ]
     },
     "execution_count": 70,
     "metadata": {},
     "output_type": "execute_result"
    }
   ],
   "source": [
    "#cojuntos o sets\n",
    "#no se pueden repetir valores\n",
    "conjunto={1,2,3,4,5,6,7,8,9,10,10,10,10,10}\n",
    "conjunto"
   ]
  },
  {
   "cell_type": "code",
   "execution_count": 72,
   "metadata": {},
   "outputs": [
    {
     "data": {
      "text/plain": [
       "{1, 2, 3, 4, 5, 6, 7, 8, 9, 10, 11}"
      ]
     },
     "execution_count": 72,
     "metadata": {},
     "output_type": "execute_result"
    }
   ],
   "source": [
    "conjunto.add(11)\n",
    "conjunto.add(1) #no se agrega porque ya existe\n",
    "conjunto"
   ]
  },
  {
   "cell_type": "code",
   "execution_count": 73,
   "metadata": {},
   "outputs": [
    {
     "ename": "TypeError",
     "evalue": "'set' object is not subscriptable",
     "output_type": "error",
     "traceback": [
      "\u001b[1;31m---------------------------------------------------------------------------\u001b[0m",
      "\u001b[1;31mTypeError\u001b[0m                                 Traceback (most recent call last)",
      "Cell \u001b[1;32mIn[73], line 1\u001b[0m\n\u001b[1;32m----> 1\u001b[0m conjunto[\u001b[39m3\u001b[39;49m] \u001b[39m#no se puede acceder a un elemento por su indice\u001b[39;00m\n",
      "\u001b[1;31mTypeError\u001b[0m: 'set' object is not subscriptable"
     ]
    }
   ],
   "source": [
    "conjunto[3] #no se puede acceder a un elemento por su indice\n"
   ]
  },
  {
   "cell_type": "code",
   "execution_count": 76,
   "metadata": {},
   "outputs": [
    {
     "name": "stdout",
     "output_type": "stream",
     "text": [
      "[1, 1, 1, 1, 1, 2, 2, 2, 3, 3, 3, 4, 2, 2, 3, 4, 5, 0, 0, 0, 0, 0]\n",
      "{0, 1, 2, 3, 4, 5}\n",
      "[0, 1, 2, 3, 4, 5]\n"
     ]
    }
   ],
   "source": [
    "lista_2=[1,1,1,1,1,2,2,2,3,3,3,4,2,2,3,4,5,0,0,0,0,0]\n",
    "print(lista_2)\n",
    "print(set(lista_2))\n",
    "print(list(set(lista_2)))\n",
    "#se puede acceder a los elementos de los set haciendolos como lista con el conmando list o al reves con set"
   ]
  },
  {
   "cell_type": "code",
   "execution_count": 77,
   "metadata": {},
   "outputs": [
    {
     "data": {
      "text/plain": [
       "(1, 2, 3, 4, 5, 6, 7, 8, 9, 10)"
      ]
     },
     "execution_count": 77,
     "metadata": {},
     "output_type": "execute_result"
    }
   ],
   "source": [
    "#tuplas\n",
    "\n",
    "mi_tupla=(1,2,3,4,5,6,7,8,9,10)\n",
    "mi_tupla"
   ]
  },
  {
   "cell_type": "code",
   "execution_count": 79,
   "metadata": {},
   "outputs": [
    {
     "data": {
      "text/plain": [
       "(1, 2, 3, 4, 5, 6, 7, 8, 9, 10, 11, 12, 13, 14, 15, 16, 17, 18, 19, 20)"
      ]
     },
     "execution_count": 79,
     "metadata": {},
     "output_type": "execute_result"
    }
   ],
   "source": [
    "mi_tupla.__add__((11,12,13,14,15,16,17,18,19,20))\n"
   ]
  },
  {
   "cell_type": "code",
   "execution_count": 81,
   "metadata": {},
   "outputs": [],
   "source": [
    "def operacion(a:int, b:int)->(int,int,int,int):\n",
    "    return (a+b, a-b, a*b, a/b)"
   ]
  },
  {
   "cell_type": "code",
   "execution_count": 83,
   "metadata": {},
   "outputs": [
    {
     "data": {
      "text/plain": [
       "9"
      ]
     },
     "execution_count": 83,
     "metadata": {},
     "output_type": "execute_result"
    }
   ],
   "source": [
    "(a,b,c,d)=operacion(4,5)\n",
    "a"
   ]
  },
  {
   "cell_type": "code",
   "execution_count": 84,
   "metadata": {},
   "outputs": [
    {
     "data": {
      "text/plain": [
       "1"
      ]
     },
     "execution_count": 84,
     "metadata": {},
     "output_type": "execute_result"
    }
   ],
   "source": [
    "tupla=(1,1,1,2,3,3,4,2)\n",
    "tupla[1]"
   ]
  },
  {
   "cell_type": "code",
   "execution_count": 85,
   "metadata": {},
   "outputs": [
    {
     "data": {
      "text/plain": [
       "-2"
      ]
     },
     "execution_count": 85,
     "metadata": {},
     "output_type": "execute_result"
    }
   ],
   "source": [
    "_,r,_,_=operacion(5,7)\n",
    "#el _ se usa para ignorar el valor de la tupla\n",
    "r\n",
    "#las tuplas son mas eficientes que las listas\n"
   ]
  },
  {
   "cell_type": "code",
   "execution_count": null,
   "metadata": {},
   "outputs": [],
   "source": []
  }
 ],
 "metadata": {
  "kernelspec": {
   "display_name": "Python 3",
   "language": "python",
   "name": "python3"
  },
  "language_info": {
   "codemirror_mode": {
    "name": "ipython",
    "version": 3
   },
   "file_extension": ".py",
   "mimetype": "text/x-python",
   "name": "python",
   "nbconvert_exporter": "python",
   "pygments_lexer": "ipython3",
   "version": "3.11.5"
  },
  "orig_nbformat": 4
 },
 "nbformat": 4,
 "nbformat_minor": 2
}
